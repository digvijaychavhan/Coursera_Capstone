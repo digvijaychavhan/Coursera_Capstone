{
 "cells": [
  {
   "cell_type": "markdown",
   "metadata": {},
   "source": [
    "## Coursera Capstone Project"
   ]
  },
  {
   "cell_type": "markdown",
   "metadata": {},
   "source": [
    "## The Battle of Neighborhoods - Final Report (Week 1 and 2)"
   ]
  },
  {
   "cell_type": "markdown",
   "metadata": {},
   "source": [
    "\n",
    "Coursera Capstone - REPORT\n",
    "\n",
    "Content\n",
    "\n",
    "Introduction Section :\n",
    "\n",
    "1.1 Discussion of the \"backgroung situation\" leading to the problem at hand:\n",
    "\n",
    "1.2 Problem to be resolved\n",
    "\n",
    "1.3 Audience for this project.\n",
    "\n",
    "Data Section:\n",
    "\n",
    "2.1 Data of Current Situation (current residence place)\n",
    "\n",
    "2.2 Data required to resolve the problem\n",
    "\n",
    "2.3 Data sources and data manipulation\n",
    "\n",
    "Methodology section :\n",
    "\n",
    "3.1 Process steps and strategy to resolve the problem\n",
    "\n",
    "3.2 Data Science Methods, machine learing, mapping tools and exploratory data analysis.\n",
    "\n",
    "Results section :\n",
    "\n",
    "Discussion section :\n",
    "\n",
    "Conclusion section :\n"
   ]
  },
  {
   "cell_type": "markdown",
   "metadata": {},
   "source": []
  },
  {
   "cell_type": "markdown",
   "metadata": {},
   "source": [
    "### 1. Introduction"
   ]
  },
  {
   "cell_type": "markdown",
   "metadata": {},
   "source": [
    "\n",
    "1.1 Background\n",
    "\n",
    "The success of establishing a new restaurant depends on several factors: demand, brand loyalty, quality of food, competition, and so on. In most cases, a restaurant’s location plays an essential determinant for its success. Hence, it is advantageous and of utmost importance to determine the most strategic location for establishment in order to maximize business profits.\n",
    "\n",
    "1.2 Business Problem\n",
    "\n",
    "A client seeks to establish a franchised Asian restaurant, with a niche in Southeast Asian cuisine, in a Toronto neighborhood. Which neighbourhood would appear to be the optimal and most strategic location for the business operations?\n",
    "The objective of this capstone project is to locate the optimal neighborhood for operation. Our foundation of reasoning would be based on spending power, distribution of ethnic group, and competition, across each neighbourhood. We will mainly be utilizing the Foursquare API and the extensive geographical and census data from Toronto’s Open Data Portal.\n",
    "\n",
    "1.3 Interests\n",
    "\n",
    "Fellow entrepreneurs seeking to either establish a new restaurant of a certain niche or have plans to expand their franchised restaurants would be very interested in the competitive advantages and business values this finding can potentially reap.\n"
   ]
  },
  {
   "cell_type": "markdown",
   "metadata": {},
   "source": [
    "### 2. Data Acquisition and Cleaning\n"
   ]
  },
  {
   "cell_type": "markdown",
   "metadata": {},
   "source": [
    "2.1 Data Sources\n",
    "\n",
    "The neighbourhoods alongside their respective postal codes and boroughs were scraped from Wikipedia. Geographical coordinates for each neighbourhood were extracted from here. As for Toronto’s census data — median household income, total population, and population of Southeast Asians across each neighbourhood — Toronto’s Open Data Portal provides all that data.\n",
    "For returning the number of Asian restaurants in the vicinity of each neighbourhood, we will be utilizing Foursquare API, more specifically, its explore function. \n",
    "\n",
    "2.2 Data Cleaning\n",
    "\n",
    "Data downloaded or scraped from multiple sources were combined into one table. There were a lot of missing values for certain neighbourhoods, due to lack of record keeping. Few assumptions were made to achieve the dataframe \n",
    "Only the cells that have an assigned borough will be processed; boroughs that were not assigned were ignored.\n",
    "Neighbourhoods missing more than two census data value were dropped.\n",
    "A column that features the percentage of distribution of Southeast Asian population across each neighbourhood was calculated by dividing the population of the Southeast Asians demographic by the total population of each neighbourhood"
   ]
  },
  {
   "cell_type": "code",
   "execution_count": null,
   "metadata": {},
   "outputs": [],
   "source": []
  }
 ],
 "metadata": {
  "kernelspec": {
   "display_name": "Python",
   "language": "python",
   "name": "conda-env-python-py"
  },
  "language_info": {
   "codemirror_mode": {
    "name": "ipython",
    "version": 3
   },
   "file_extension": ".py",
   "mimetype": "text/x-python",
   "name": "python",
   "nbconvert_exporter": "python",
   "pygments_lexer": "ipython3",
   "version": "3.6.11"
  }
 },
 "nbformat": 4,
 "nbformat_minor": 4
}

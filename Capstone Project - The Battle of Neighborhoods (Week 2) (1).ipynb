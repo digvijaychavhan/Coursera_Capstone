{
 "cells": [
  {
   "cell_type": "markdown",
   "metadata": {},
   "source": [
    "## Strategic Location for Establishing an Asian Restaurant"
   ]
  },
  {
   "cell_type": "markdown",
   "metadata": {},
   "source": [
    "### Introduction / Business Problem"
   ]
  },
  {
   "cell_type": "markdown",
   "metadata": {},
   "source": [
    "The success of establishing a new restaurant depends on several factors: demand, brand loyalty, quality of food, competition, and so on. In most cases, a restaurant's location plays an essential determinant for its success. Hence, it is advantageous and of utmost importance to determine the most strategic location for establishment in order to maximize business profits."
   ]
  },
  {
   "cell_type": "markdown",
   "metadata": {},
   "source": [
    "\n",
    "#### Business Problem:\n",
    "Client seeks to establish a franchised Asian restaurant in a Toronto neighborhood. Which neighborhood would appear to be the optimal and most strategic location for the business\n",
    "\n",
    "A client seeks to establish a franchised Asian restaurant in a Toronto neighborhood. Which neighbourhood would appear to be the optimal and most strategic location for the business operations? The objective of this capstone project is to locate the optimal neighborhood for operation. Our foundation of reasoning would be based off of spending power, distribution of ethnic group, and competition, across each neighbourhood. We will mainly be utilizing the Foursquare API and the extensive geographical and census data from Toronto's Open Data Portal."
   ]
  },
  {
   "cell_type": "markdown",
   "metadata": {},
   "source": [
    "#### Data\n",
    "The Foursquare API will be used to explore neighborhoods in Toronto, more specifically, we will be using the explore function to get the most common venue categories in each neighborhood.\n",
    "\n",
    "Neighbourhood names, alongside their corresponding boroughs and postal codes, scraped from Wikipedia: (https://en.wikipedia.org/w/index.php?title=List_of_postal_codes_of_Canada:_M&oldid=945633050)\n",
    "\n",
    "The Toronto's census data for its social demographic characteristics will be distilled from Toronto's open data portal.\n",
    "\n",
    "Geographical coordinates of each neighbourhood: (https://cocl.us/Geospatial_data)"
   ]
  },
  {
   "cell_type": "code",
   "execution_count": 1,
   "metadata": {},
   "outputs": [
    {
     "name": "stdout",
     "output_type": "stream",
     "text": [
      "Requirement already satisfied: lxml in /home/jupyterlab/conda/envs/python/lib/python3.6/site-packages (4.6.1)\n",
      "Requirement already satisfied: geopy in /home/jupyterlab/conda/envs/python/lib/python3.6/site-packages (2.0.0)\n",
      "Requirement already satisfied: geographiclib<2,>=1.49 in /home/jupyterlab/conda/envs/python/lib/python3.6/site-packages (from geopy) (1.50)\n"
     ]
    }
   ],
   "source": [
    "import numpy as np\n",
    "import pandas as pd\n",
    "!pip install lxml\n",
    "!pip install geopy\n"
   ]
  },
  {
   "cell_type": "markdown",
   "metadata": {},
   "source": [
    "#### Load data and store in respective dataframes"
   ]
  },
  {
   "cell_type": "code",
   "execution_count": 2,
   "metadata": {},
   "outputs": [
    {
     "data": {
      "text/html": [
       "<div>\n",
       "<style scoped>\n",
       "    .dataframe tbody tr th:only-of-type {\n",
       "        vertical-align: middle;\n",
       "    }\n",
       "\n",
       "    .dataframe tbody tr th {\n",
       "        vertical-align: top;\n",
       "    }\n",
       "\n",
       "    .dataframe thead th {\n",
       "        text-align: right;\n",
       "    }\n",
       "</style>\n",
       "<table border=\"1\" class=\"dataframe\">\n",
       "  <thead>\n",
       "    <tr style=\"text-align: right;\">\n",
       "      <th></th>\n",
       "      <th>Neighbourhood</th>\n",
       "      <th>Neighbourhood Id</th>\n",
       "      <th>Pop 15 - 19 years</th>\n",
       "      <th>Pop 20 - 24 years</th>\n",
       "      <th>Pop 25 - 29 years</th>\n",
       "      <th>Youth 15-24</th>\n",
       "      <th>After-Tax Household Income</th>\n",
       "      <th>Vehicle Thefts</th>\n",
       "      <th>Thefts</th>\n",
       "      <th>Robberies</th>\n",
       "      <th>South Asian</th>\n",
       "      <th>Total Population</th>\n",
       "      <th>% South Asian</th>\n",
       "      <th>Pop 20 - 29 years</th>\n",
       "    </tr>\n",
       "  </thead>\n",
       "  <tbody>\n",
       "    <tr>\n",
       "      <th>54</th>\n",
       "      <td>Thorncliffe Park</td>\n",
       "      <td>55.0</td>\n",
       "      <td>1245.0</td>\n",
       "      <td>1210.0</td>\n",
       "      <td>1505.0</td>\n",
       "      <td>2455.0</td>\n",
       "      <td>38645.0</td>\n",
       "      <td>4.0</td>\n",
       "      <td>11.0</td>\n",
       "      <td>12.0</td>\n",
       "      <td>9845.0</td>\n",
       "      <td>21108.0</td>\n",
       "      <td>0.466411</td>\n",
       "      <td>2715.0</td>\n",
       "    </tr>\n",
       "    <tr>\n",
       "      <th>130</th>\n",
       "      <td>Rouge</td>\n",
       "      <td>131.0</td>\n",
       "      <td>3265.0</td>\n",
       "      <td>3435.0</td>\n",
       "      <td>3180.0</td>\n",
       "      <td>6700.0</td>\n",
       "      <td>72784.0</td>\n",
       "      <td>19.0</td>\n",
       "      <td>12.0</td>\n",
       "      <td>29.0</td>\n",
       "      <td>20175.0</td>\n",
       "      <td>46496.0</td>\n",
       "      <td>0.433908</td>\n",
       "      <td>6615.0</td>\n",
       "    </tr>\n",
       "    <tr>\n",
       "      <th>0</th>\n",
       "      <td>West Humber-Clairville</td>\n",
       "      <td>1.0</td>\n",
       "      <td>2325.0</td>\n",
       "      <td>3120.0</td>\n",
       "      <td>2785.0</td>\n",
       "      <td>5445.0</td>\n",
       "      <td>59703.0</td>\n",
       "      <td>316.0</td>\n",
       "      <td>38.0</td>\n",
       "      <td>82.0</td>\n",
       "      <td>13920.0</td>\n",
       "      <td>33312.0</td>\n",
       "      <td>0.417867</td>\n",
       "      <td>5905.0</td>\n",
       "    </tr>\n",
       "    <tr>\n",
       "      <th>136</th>\n",
       "      <td>Woburn</td>\n",
       "      <td>137.0</td>\n",
       "      <td>3400.0</td>\n",
       "      <td>4260.0</td>\n",
       "      <td>4060.0</td>\n",
       "      <td>7660.0</td>\n",
       "      <td>47908.0</td>\n",
       "      <td>31.0</td>\n",
       "      <td>16.0</td>\n",
       "      <td>58.0</td>\n",
       "      <td>21545.0</td>\n",
       "      <td>53485.0</td>\n",
       "      <td>0.402823</td>\n",
       "      <td>8320.0</td>\n",
       "    </tr>\n",
       "    <tr>\n",
       "      <th>131</th>\n",
       "      <td>Malvern</td>\n",
       "      <td>132.0</td>\n",
       "      <td>3170.0</td>\n",
       "      <td>3450.0</td>\n",
       "      <td>3210.0</td>\n",
       "      <td>6620.0</td>\n",
       "      <td>53425.0</td>\n",
       "      <td>36.0</td>\n",
       "      <td>7.0</td>\n",
       "      <td>54.0</td>\n",
       "      <td>17465.0</td>\n",
       "      <td>43794.0</td>\n",
       "      <td>0.398799</td>\n",
       "      <td>6660.0</td>\n",
       "    </tr>\n",
       "  </tbody>\n",
       "</table>\n",
       "</div>"
      ],
      "text/plain": [
       "              Neighbourhood  Neighbourhood Id  Pop 15 - 19 years  \\\n",
       "54         Thorncliffe Park              55.0             1245.0   \n",
       "130                   Rouge             131.0             3265.0   \n",
       "0    West Humber-Clairville               1.0             2325.0   \n",
       "136                  Woburn             137.0             3400.0   \n",
       "131                 Malvern             132.0             3170.0   \n",
       "\n",
       "     Pop 20 - 24 years  Pop 25 - 29 years  Youth 15-24  \\\n",
       "54              1210.0             1505.0       2455.0   \n",
       "130             3435.0             3180.0       6700.0   \n",
       "0               3120.0             2785.0       5445.0   \n",
       "136             4260.0             4060.0       7660.0   \n",
       "131             3450.0             3210.0       6620.0   \n",
       "\n",
       "     After-Tax Household Income  Vehicle Thefts  Thefts  Robberies  \\\n",
       "54                      38645.0             4.0    11.0       12.0   \n",
       "130                     72784.0            19.0    12.0       29.0   \n",
       "0                       59703.0           316.0    38.0       82.0   \n",
       "136                     47908.0            31.0    16.0       58.0   \n",
       "131                     53425.0            36.0     7.0       54.0   \n",
       "\n",
       "     South Asian  Total Population  % South Asian  Pop 20 - 29 years  \n",
       "54        9845.0           21108.0       0.466411             2715.0  \n",
       "130      20175.0           46496.0       0.433908             6615.0  \n",
       "0        13920.0           33312.0       0.417867             5905.0  \n",
       "136      21545.0           53485.0       0.402823             8320.0  \n",
       "131      17465.0           43794.0       0.398799             6660.0  "
      ]
     },
     "execution_count": 2,
     "metadata": {},
     "output_type": "execute_result"
    }
   ],
   "source": [
    "data  = pd.read_csv('wellbeing_toronto.csv')\n",
    "data.drop(columns='Combined Indicators',inplace=True)\n",
    "\n",
    "column = ['Neighbourhood', 'Neighbourhood Id', 'Pop 15 - 19 years','Pop 20 - 24 years','Pop 25 - 29 years', 'Youth 15-24',\n",
    "          'After-Tax Household Income', 'Vehicle Thefts', 'Thefts', 'Robberies',\n",
    "          'South Asian', 'Total Population']\n",
    "data.columns = column\n",
    "\n",
    "data['% South Asian']= data['South Asian']/data['Total Population']\n",
    "data['Pop 20 - 29 years'] = data['Pop 20 - 24 years'] + data['Pop 25 - 29 years']\n",
    "data.sort_values(by='% South Asian',axis=0,ascending=False,inplace=True)\n",
    "data.head()"
   ]
  },
  {
   "cell_type": "markdown",
   "metadata": {},
   "source": [
    "#### Merging Respective Dataframe and Get total percentage of south Asian people in respective area"
   ]
  },
  {
   "cell_type": "code",
   "execution_count": 3,
   "metadata": {},
   "outputs": [
    {
     "data": {
      "text/html": [
       "<div>\n",
       "<style scoped>\n",
       "    .dataframe tbody tr th:only-of-type {\n",
       "        vertical-align: middle;\n",
       "    }\n",
       "\n",
       "    .dataframe tbody tr th {\n",
       "        vertical-align: top;\n",
       "    }\n",
       "\n",
       "    .dataframe thead th {\n",
       "        text-align: right;\n",
       "    }\n",
       "</style>\n",
       "<table border=\"1\" class=\"dataframe\">\n",
       "  <thead>\n",
       "    <tr style=\"text-align: right;\">\n",
       "      <th></th>\n",
       "      <th>Neighbourhood</th>\n",
       "      <th>Latitude</th>\n",
       "      <th>Longitude</th>\n",
       "      <th>Pop 20 - 29 years</th>\n",
       "      <th>Household Income</th>\n",
       "      <th>% South Asian</th>\n",
       "    </tr>\n",
       "  </thead>\n",
       "  <tbody>\n",
       "    <tr>\n",
       "      <th>0</th>\n",
       "      <td>Thorncliffe Park</td>\n",
       "      <td>43.705369</td>\n",
       "      <td>-79.349372</td>\n",
       "      <td>2715.0</td>\n",
       "      <td>38645.0</td>\n",
       "      <td>0.466411</td>\n",
       "    </tr>\n",
       "    <tr>\n",
       "      <th>1</th>\n",
       "      <td>Rouge</td>\n",
       "      <td>43.806686</td>\n",
       "      <td>-79.194353</td>\n",
       "      <td>6615.0</td>\n",
       "      <td>72784.0</td>\n",
       "      <td>0.433908</td>\n",
       "    </tr>\n",
       "    <tr>\n",
       "      <th>2</th>\n",
       "      <td>Woburn</td>\n",
       "      <td>43.770992</td>\n",
       "      <td>-79.216917</td>\n",
       "      <td>8320.0</td>\n",
       "      <td>47908.0</td>\n",
       "      <td>0.402823</td>\n",
       "    </tr>\n",
       "    <tr>\n",
       "      <th>3</th>\n",
       "      <td>Malvern</td>\n",
       "      <td>43.806686</td>\n",
       "      <td>-79.194353</td>\n",
       "      <td>6660.0</td>\n",
       "      <td>53425.0</td>\n",
       "      <td>0.398799</td>\n",
       "    </tr>\n",
       "    <tr>\n",
       "      <th>4</th>\n",
       "      <td>Highland Creek</td>\n",
       "      <td>43.784535</td>\n",
       "      <td>-79.160497</td>\n",
       "      <td>2045.0</td>\n",
       "      <td>87321.0</td>\n",
       "      <td>0.361373</td>\n",
       "    </tr>\n",
       "  </tbody>\n",
       "</table>\n",
       "</div>"
      ],
      "text/plain": [
       "      Neighbourhood   Latitude  Longitude  Pop 20 - 29 years  \\\n",
       "0  Thorncliffe Park  43.705369 -79.349372             2715.0   \n",
       "1             Rouge  43.806686 -79.194353             6615.0   \n",
       "2            Woburn  43.770992 -79.216917             8320.0   \n",
       "3           Malvern  43.806686 -79.194353             6660.0   \n",
       "4    Highland Creek  43.784535 -79.160497             2045.0   \n",
       "\n",
       "   Household Income  % South Asian  \n",
       "0           38645.0       0.466411  \n",
       "1           72784.0       0.433908  \n",
       "2           47908.0       0.402823  \n",
       "3           53425.0       0.398799  \n",
       "4           87321.0       0.361373  "
      ]
     },
     "execution_count": 3,
     "metadata": {},
     "output_type": "execute_result"
    }
   ],
   "source": [
    "df_geo = pd.read_csv(\"https://cocl.us/Geospatial_data\")\n",
    "df = pd.read_html('https://en.wikipedia.org/w/index.php?title=List_of_postal_codes_of_Canada:_M&oldid=945633050')[0]\n",
    "\n",
    "df = df[df['Borough']!='Not assigned']\n",
    "df = pd.merge(df, df_geo, left_on='Postcode', right_on='Postal Code').drop(['Postal Code', 'Postcode', 'Borough'], axis=1)\n",
    "df = pd.merge(df,data, on='Neighbourhood', how='left').dropna(how='any', axis=0).reset_index(drop=True)\n",
    "df.drop(['Neighbourhood Id'],axis = 1 , inplace=True)\n",
    "\n",
    "df.rename(columns={'After-Tax Household Income': 'Household Income'}, inplace=True)\n",
    "df.sort_values(by='% South Asian',axis=0,ascending=False,inplace=True)\n",
    "df=df.reset_index(drop=True)\n",
    "df=df[['Neighbourhood', 'Latitude', 'Longitude', 'Pop 20 - 29 years', \n",
    "      'Household Income','% South Asian']]\n",
    "df.head()"
   ]
  },
  {
   "cell_type": "code",
   "execution_count": 4,
   "metadata": {},
   "outputs": [
    {
     "name": "stdout",
     "output_type": "stream",
     "text": [
      "The geographical coordinates of Toronto are 43.6534817, -79.3839347\n"
     ]
    }
   ],
   "source": [
    "from geopy.geocoders import Nominatim\n",
    "address = 'Toronto'\n",
    "geolocator = Nominatim(user_agent='to_explorer')\n",
    "location = geolocator.geocode(address)\n",
    "latitude = location.latitude\n",
    "longitude = location.longitude\n",
    "43.716316\t-79.239476\n",
    "print(\"The geographical coordinates of Toronto are {}, {}\".format(latitude, longitude))"
   ]
  },
  {
   "cell_type": "code",
   "execution_count": 5,
   "metadata": {},
   "outputs": [
    {
     "data": {
      "text/html": [
       "<div style=\"width:100%;\"><div style=\"position:relative;width:100%;height:0;padding-bottom:60%;\"><span style=\"color:#565656\">Make this Notebook Trusted to load map: File -> Trust Notebook</span><iframe src=\"about:blank\" style=\"position:absolute;width:100%;height:100%;left:0;top:0;border:none !important;\" data-html=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 onload=\"this.contentDocument.open();this.contentDocument.write(atob(this.getAttribute('data-html')));this.contentDocument.close();\" allowfullscreen webkitallowfullscreen mozallowfullscreen></iframe></div></div>"
      ],
      "text/plain": [
       "<folium.folium.Map at 0x7fa8417cc358>"
      ]
     },
     "execution_count": 5,
     "metadata": {},
     "output_type": "execute_result"
    }
   ],
   "source": [
    "\n",
    "# Folium mapping\n",
    "import folium\n",
    "map_Toronto = folium.Map(location=[latitude, longitude], zoom_start=11)\n",
    "\n",
    "# add markers to map\n",
    "for lat, lng, neighbourhood in zip(df['Latitude'], df['Longitude'], df['Neighbourhood']):\n",
    "    label = '{}'.format(neighbourhood)\n",
    "    label = folium.Popup(label)\n",
    "    folium.CircleMarker(\n",
    "          [lat,lng],\n",
    "          radius=8,\n",
    "          color='blue',\n",
    "          popup=label,\n",
    "          fill_color='#3186cc',\n",
    "          fill_opacity=0.7,\n",
    "          fill=True\n",
    "\n",
    "  ).add_to(map_Toronto)\n",
    "\n",
    "map_Toronto"
   ]
  },
  {
   "cell_type": "markdown",
   "metadata": {},
   "source": [
    "#### Foursquare Credential for exploring location data"
   ]
  },
  {
   "cell_type": "code",
   "execution_count": 6,
   "metadata": {},
   "outputs": [],
   "source": [
    "# @hidden_cell\n",
    "CLIENT_ID = '10MCESV5DYWAO0A3B1PMN5PEPGILFKXYYXCSUMTA3AHTLQAH' # your Foursquare ID\n",
    "CLIENT_SECRET = 'GJ54RTFWQCODJWSTWWCBMTZNFMJANXESGV5ZV02R14U0JEIT' # your Foursquare Secret\n",
    "VERSION = '20180604'\n",
    "LIMIT = 30\n"
   ]
  },
  {
   "cell_type": "markdown",
   "metadata": {},
   "source": [
    "#### \n",
    "Get the top 100 venues that are in Toronto within a radius of 1500 meters"
   ]
  },
  {
   "cell_type": "code",
   "execution_count": 10,
   "metadata": {},
   "outputs": [],
   "source": [
    "import requests\n",
    "LIMIT = 100\n",
    "radius = 1500\n",
    "url = 'https://api.foursquare.com/v2/venues/explore?&client_id={}&client_secret={}&v={}&ll={},{}&radius={}&limit={}'.format(\n",
    "        CLIENT_ID,\n",
    "        CLIENT_SECRET,\n",
    "        VERSION,\n",
    "        lat,\n",
    "        lng,\n",
    "        radius,\n",
    "        LIMIT\n",
    "    )\n",
    "\n",
    "def getNearbyVenues(names, latitudes, longitudes, radius=1500):\n",
    "    venues_list = []\n",
    "    for name, lat, lng in zip(names, latitudes, longitudes):\n",
    "        print(name)\n",
    "\n",
    "        #create the API request url\n",
    "        url = 'https://api.foursquare.com/v2/venues/explore?&client_id={}&client_secret={}&v={}&ll={},{}&radius={}&limit={}'.format(\n",
    "        CLIENT_ID,\n",
    "        CLIENT_SECRET,\n",
    "        VERSION,\n",
    "        lat,\n",
    "        lng,\n",
    "        radius,\n",
    "        LIMIT\n",
    "         )\n",
    "        try:\n",
    "                results = requests.get(url).json()['response']['groups'][0]['items']\n",
    "        except ValueError:\n",
    "            continue\n",
    "        # make the GET request\n",
    "        \n",
    "\n",
    "        # return only relevant information for each nearby venue\n",
    "        venues_list.append([(\n",
    "        name,\n",
    "        lat,\n",
    "        lng,\n",
    "        v['venue']['name'],\n",
    "        v['venue']['location']['lat'],\n",
    "        v['venue']['location']['lng'],\n",
    "        v['venue']['categories'][0]['name']) for v in results\n",
    "        ])\n",
    "  \n",
    "    nearby_venues = pd.DataFrame([item for venue_list in venues_list for item in venue_list])\n",
    "    nearby_venues.columns = ['Neighbourhood',\n",
    "                           'Neighbourhood Latitude',\n",
    "                           'Neighbourhood Longitude',\n",
    "                           'Venue',\n",
    "                           'Venue Latitude',\n",
    "                           'Venue Longitude',\n",
    "                           'Venue Category']\n",
    "\n",
    "    return(nearby_venues)"
   ]
  },
  {
   "cell_type": "code",
   "execution_count": 11,
   "metadata": {},
   "outputs": [
    {
     "name": "stdout",
     "output_type": "stream",
     "text": [
      "Thorncliffe Park\n",
      "Rouge\n",
      "Woburn\n",
      "Malvern\n",
      "Highland Creek\n",
      "Flemingdon Park\n",
      "Oakridge\n",
      "Scarborough Village\n",
      "Morningside\n",
      "Dorset Park\n",
      "Humber Summit\n",
      "Ionview\n",
      "Kennedy Park\n",
      "Henry Farm\n",
      "Cliffcrest\n",
      "West Hill\n",
      "Agincourt North\n",
      "Victoria Village\n",
      "Milliken\n",
      "Hillcrest Village\n",
      "Guildwood\n",
      "Bayview Village\n",
      "Roncesvalles\n",
      "New Toronto\n",
      "Willowdale West\n",
      "Alderwood\n",
      "Weston\n",
      "Mount Dennis\n",
      "Bathurst Manor\n",
      "Long Branch\n",
      "The Beaches\n",
      "Little Portugal\n",
      "Humewood-Cedarvale\n",
      "Markland Wood\n",
      "Forest Hill North\n"
     ]
    },
    {
     "data": {
      "text/html": [
       "<div>\n",
       "<style scoped>\n",
       "    .dataframe tbody tr th:only-of-type {\n",
       "        vertical-align: middle;\n",
       "    }\n",
       "\n",
       "    .dataframe tbody tr th {\n",
       "        vertical-align: top;\n",
       "    }\n",
       "\n",
       "    .dataframe thead th {\n",
       "        text-align: right;\n",
       "    }\n",
       "</style>\n",
       "<table border=\"1\" class=\"dataframe\">\n",
       "  <thead>\n",
       "    <tr style=\"text-align: right;\">\n",
       "      <th></th>\n",
       "      <th>Neighbourhood</th>\n",
       "      <th>Neighbourhood Latitude</th>\n",
       "      <th>Neighbourhood Longitude</th>\n",
       "      <th>Venue</th>\n",
       "      <th>Venue Latitude</th>\n",
       "      <th>Venue Longitude</th>\n",
       "      <th>Venue Category</th>\n",
       "    </tr>\n",
       "  </thead>\n",
       "  <tbody>\n",
       "    <tr>\n",
       "      <th>0</th>\n",
       "      <td>Thorncliffe Park</td>\n",
       "      <td>43.705369</td>\n",
       "      <td>-79.349372</td>\n",
       "      <td>Costco</td>\n",
       "      <td>43.707051</td>\n",
       "      <td>-79.348093</td>\n",
       "      <td>Warehouse Store</td>\n",
       "    </tr>\n",
       "    <tr>\n",
       "      <th>1</th>\n",
       "      <td>Thorncliffe Park</td>\n",
       "      <td>43.705369</td>\n",
       "      <td>-79.349372</td>\n",
       "      <td>Iqbal Kebab &amp; Sweet Centre</td>\n",
       "      <td>43.705923</td>\n",
       "      <td>-79.351521</td>\n",
       "      <td>Indian Restaurant</td>\n",
       "    </tr>\n",
       "    <tr>\n",
       "      <th>2</th>\n",
       "      <td>Thorncliffe Park</td>\n",
       "      <td>43.705369</td>\n",
       "      <td>-79.349372</td>\n",
       "      <td>Amsterdam Brewery</td>\n",
       "      <td>43.706404</td>\n",
       "      <td>-79.357162</td>\n",
       "      <td>Brewery</td>\n",
       "    </tr>\n",
       "    <tr>\n",
       "      <th>3</th>\n",
       "      <td>Thorncliffe Park</td>\n",
       "      <td>43.705369</td>\n",
       "      <td>-79.349372</td>\n",
       "      <td>Adamson Barbecue</td>\n",
       "      <td>43.712452</td>\n",
       "      <td>-79.353083</td>\n",
       "      <td>BBQ Joint</td>\n",
       "    </tr>\n",
       "    <tr>\n",
       "      <th>4</th>\n",
       "      <td>Thorncliffe Park</td>\n",
       "      <td>43.705369</td>\n",
       "      <td>-79.349372</td>\n",
       "      <td>Bamiyan Kabob</td>\n",
       "      <td>43.707824</td>\n",
       "      <td>-79.343446</td>\n",
       "      <td>Afghan Restaurant</td>\n",
       "    </tr>\n",
       "    <tr>\n",
       "      <th>...</th>\n",
       "      <td>...</td>\n",
       "      <td>...</td>\n",
       "      <td>...</td>\n",
       "      <td>...</td>\n",
       "      <td>...</td>\n",
       "      <td>...</td>\n",
       "      <td>...</td>\n",
       "    </tr>\n",
       "    <tr>\n",
       "      <th>1815</th>\n",
       "      <td>Forest Hill North</td>\n",
       "      <td>43.696948</td>\n",
       "      <td>-79.411307</td>\n",
       "      <td>Doppio Zero</td>\n",
       "      <td>43.703475</td>\n",
       "      <td>-79.414194</td>\n",
       "      <td>Italian Restaurant</td>\n",
       "    </tr>\n",
       "    <tr>\n",
       "      <th>1816</th>\n",
       "      <td>Forest Hill North</td>\n",
       "      <td>43.696948</td>\n",
       "      <td>-79.411307</td>\n",
       "      <td>Body Harmonics Pilates</td>\n",
       "      <td>43.703733</td>\n",
       "      <td>-79.412778</td>\n",
       "      <td>Pilates Studio</td>\n",
       "    </tr>\n",
       "    <tr>\n",
       "      <th>1817</th>\n",
       "      <td>Forest Hill North</td>\n",
       "      <td>43.696948</td>\n",
       "      <td>-79.411307</td>\n",
       "      <td>Fireplace Shop</td>\n",
       "      <td>43.703852</td>\n",
       "      <td>-79.410634</td>\n",
       "      <td>Furniture / Home Store</td>\n",
       "    </tr>\n",
       "    <tr>\n",
       "      <th>1818</th>\n",
       "      <td>Forest Hill North</td>\n",
       "      <td>43.696948</td>\n",
       "      <td>-79.411307</td>\n",
       "      <td>LCBO</td>\n",
       "      <td>43.683885</td>\n",
       "      <td>-79.415414</td>\n",
       "      <td>Liquor Store</td>\n",
       "    </tr>\n",
       "    <tr>\n",
       "      <th>1819</th>\n",
       "      <td>Forest Hill North</td>\n",
       "      <td>43.696948</td>\n",
       "      <td>-79.411307</td>\n",
       "      <td>Fionn MacCool's Yonge &amp; Davisville</td>\n",
       "      <td>43.697210</td>\n",
       "      <td>-79.396291</td>\n",
       "      <td>Irish Pub</td>\n",
       "    </tr>\n",
       "  </tbody>\n",
       "</table>\n",
       "<p>1820 rows × 7 columns</p>\n",
       "</div>"
      ],
      "text/plain": [
       "          Neighbourhood  Neighbourhood Latitude  Neighbourhood Longitude  \\\n",
       "0      Thorncliffe Park               43.705369               -79.349372   \n",
       "1      Thorncliffe Park               43.705369               -79.349372   \n",
       "2      Thorncliffe Park               43.705369               -79.349372   \n",
       "3      Thorncliffe Park               43.705369               -79.349372   \n",
       "4      Thorncliffe Park               43.705369               -79.349372   \n",
       "...                 ...                     ...                      ...   \n",
       "1815  Forest Hill North               43.696948               -79.411307   \n",
       "1816  Forest Hill North               43.696948               -79.411307   \n",
       "1817  Forest Hill North               43.696948               -79.411307   \n",
       "1818  Forest Hill North               43.696948               -79.411307   \n",
       "1819  Forest Hill North               43.696948               -79.411307   \n",
       "\n",
       "                                   Venue  Venue Latitude  Venue Longitude  \\\n",
       "0                                 Costco       43.707051       -79.348093   \n",
       "1             Iqbal Kebab & Sweet Centre       43.705923       -79.351521   \n",
       "2                      Amsterdam Brewery       43.706404       -79.357162   \n",
       "3                       Adamson Barbecue       43.712452       -79.353083   \n",
       "4                          Bamiyan Kabob       43.707824       -79.343446   \n",
       "...                                  ...             ...              ...   \n",
       "1815                         Doppio Zero       43.703475       -79.414194   \n",
       "1816              Body Harmonics Pilates       43.703733       -79.412778   \n",
       "1817                      Fireplace Shop       43.703852       -79.410634   \n",
       "1818                                LCBO       43.683885       -79.415414   \n",
       "1819  Fionn MacCool's Yonge & Davisville       43.697210       -79.396291   \n",
       "\n",
       "              Venue Category  \n",
       "0            Warehouse Store  \n",
       "1          Indian Restaurant  \n",
       "2                    Brewery  \n",
       "3                  BBQ Joint  \n",
       "4          Afghan Restaurant  \n",
       "...                      ...  \n",
       "1815      Italian Restaurant  \n",
       "1816          Pilates Studio  \n",
       "1817  Furniture / Home Store  \n",
       "1818            Liquor Store  \n",
       "1819               Irish Pub  \n",
       "\n",
       "[1820 rows x 7 columns]"
      ]
     },
     "execution_count": 11,
     "metadata": {},
     "output_type": "execute_result"
    }
   ],
   "source": [
    "toronto_venues = getNearbyVenues(names=df['Neighbourhood'],\n",
    "                                 latitudes=df['Latitude'],\n",
    "                                 longitudes=df['Longitude'])\n",
    "\n",
    "toronto_venues"
   ]
  },
  {
   "cell_type": "code",
   "execution_count": null,
   "metadata": {},
   "outputs": [],
   "source": [
    "# one hot encoding\n",
    "toronto_onehot = pd.get_dummies(toronto_venues[['Venue Category']], prefix='', prefix_sep='')\n",
    "\n",
    "# add neighbourhood to column back to data frame\n",
    "toronto_onehot['Neighbourhood'] = toronto_venues['Neighbourhood']\n",
    "\n",
    "# move neighbourhood column to the first column\n",
    "cols = list(toronto_onehot)\n",
    "cols"
   ]
  },
  {
   "cell_type": "markdown",
   "metadata": {},
   "source": [
    "Analyze each neighbourhood with One Hot Encoding"
   ]
  },
  {
   "cell_type": "code",
   "execution_count": null,
   "metadata": {},
   "outputs": [],
   "source": [
    "cols.insert(0, cols.pop(cols.index('Neighbourhood')))\n",
    "toronto_onehot = toronto_onehot.loc[:,cols]\n",
    "toronto_onehot"
   ]
  },
  {
   "cell_type": "markdown",
   "metadata": {},
   "source": [
    "### Group rows by neighbourhood and by taking the mean of the frequency of occurrence of Asian restaurants"
   ]
  },
  {
   "cell_type": "code",
   "execution_count": null,
   "metadata": {},
   "outputs": [],
   "source": [
    "\n",
    "toronto_grouped = toronto_onehot.groupby('Neighbourhood').mean().reset_index()\n",
    "toronto_grouped = toronto_grouped[['Neighbourhood', 'Asian Restaurant']]\n",
    "toronto_grouped.set_index('Neighbourhood', inplace=True)\n",
    "toronto_grouped"
   ]
  },
  {
   "cell_type": "markdown",
   "metadata": {},
   "source": [
    "### Plotting a bar graph to showcase the frequency distribution of Asian restaurants in each neighbourhood."
   ]
  },
  {
   "cell_type": "code",
   "execution_count": null,
   "metadata": {},
   "outputs": [],
   "source": [
    "# sort by descending order\n",
    "toronto_grouped.sort_values(by='Asian Restaurant', ascending=False, inplace=True)\n",
    "\n",
    "%matplotlib inline\n",
    "import matplotlib as mpl\n",
    "import matplotlib.pyplot as plt\n",
    "\n",
    "mpl.style.use('ggplot')\n",
    "toronto_grouped.plot(kind='bar', figsize=(15,5))\n",
    "\n",
    "plt.title('Mean Frequency of Asian Restaurants in Each Neighbourhood in Toronto')\n",
    "plt.xlabel('Neighbourhood')\n",
    "plt.ylabel('Mean frequency of Asian Restaurants')\n",
    "\n",
    "plt.show()"
   ]
  },
  {
   "cell_type": "markdown",
   "metadata": {},
   "source": [
    "As inferred from the bar chart, Humber Summit is most densely populated with Asian Restaurants; hence, it is not advisable for business operations to be taken place here.\n",
    "\n"
   ]
  },
  {
   "cell_type": "markdown",
   "metadata": {},
   "source": [
    "#### Plotting a bar graph to illustrate the distribution of South Asian population group in each neighbourhood"
   ]
  },
  {
   "cell_type": "code",
   "execution_count": null,
   "metadata": {},
   "outputs": [],
   "source": [
    "\n",
    "df_ethnic = df[['Neighbourhood', '% South Asian']].set_index('Neighbourhood')\n",
    "\n",
    "# sort by descending order\n",
    "df_ethnic.sort_values(by='% South Asian', ascending=False, inplace=True)\n",
    "\n",
    "#plot bar graph\n",
    "df_ethnic.plot(kind='bar', figsize=(13,5))\n",
    "plt.title('Distribution of Southeast Asians in Each Neighbourhood')\n",
    "plt.xlabel('Neighbourhood')\n",
    "plt.ylabel('% South Asian')\n",
    "\n",
    "plt.show()"
   ]
  },
  {
   "cell_type": "markdown",
   "metadata": {},
   "source": [
    "As inferred from above, Thomchliffe Park,Rouge,Wobum are some  most densely populated neighbourhood with South Asians."
   ]
  },
  {
   "cell_type": "markdown",
   "metadata": {},
   "source": [
    "#### Plotting a bar graph to illustrate the distribution of income groups in each neighbourhood"
   ]
  },
  {
   "cell_type": "code",
   "execution_count": null,
   "metadata": {},
   "outputs": [],
   "source": [
    "df_income = df[['Neighbourhood', 'Household Income']].set_index('Neighbourhood')\n",
    "\n",
    "# sort by descending order\n",
    "df_income.sort_values(by='Household Income', ascending=False, inplace=True)\n",
    "\n",
    "#plot bar graph\n",
    "df_income.plot(kind='bar', figsize=(13,5))\n",
    "plt.title('Distribution of Median Household Income in Each Neighbourhood')\n",
    "plt.xlabel('Neighbourhood')\n",
    "plt.ylabel('Median Household Income')\n",
    "\n",
    "plt.show()"
   ]
  },
  {
   "cell_type": "markdown",
   "metadata": {},
   "source": [
    "#### Finalise a dataframe for clustering"
   ]
  },
  {
   "cell_type": "code",
   "execution_count": null,
   "metadata": {},
   "outputs": [],
   "source": [
    "# merge df with toronto_grouped\n",
    "df_final = pd.merge(df, toronto_grouped, on='Neighbourhood')\n",
    "df_final.head()"
   ]
  },
  {
   "cell_type": "markdown",
   "metadata": {},
   "source": [
    "To interpret features with different magnitudes and distributions equally. We use StandardScaler() to normalize our dataset."
   ]
  },
  {
   "cell_type": "markdown",
   "metadata": {},
   "source": [
    "Note: population 20 - 29 years was not consider when clustering"
   ]
  },
  {
   "cell_type": "code",
   "execution_count": null,
   "metadata": {},
   "outputs": [],
   "source": [
    "\n",
    "from sklearn.preprocessing import StandardScaler\n",
    "X =df_final.iloc[:,4:]\n",
    "X = np.nan_to_num(X)\n",
    "Clus_dataSet = StandardScaler().fit_transform(X)\n",
    "\n",
    "df_normalized = pd.DataFrame(Clus_dataSet)\n",
    "df_normalized.rename(columns={0:'Household Income', 1:'% South Asian', 2:'No. of Asian Restaurants'}, inplace=True)\n",
    "df_normalized.head()"
   ]
  },
  {
   "cell_type": "code",
   "execution_count": null,
   "metadata": {},
   "outputs": [],
   "source": [
    "df_normalized.plot(kind='line',figsize=(13,6))"
   ]
  },
  {
   "cell_type": "markdown",
   "metadata": {},
   "source": [
    "From above graph it looks like there is no direct relationship between any factors mention above."
   ]
  },
  {
   "cell_type": "markdown",
   "metadata": {},
   "source": [
    "As we are using Kmeans clustring method for grouping we will try to find optimum K using reduce squareed error but at same time the solution should be not be over generalized"
   ]
  },
  {
   "cell_type": "code",
   "execution_count": null,
   "metadata": {},
   "outputs": [],
   "source": [
    "\n",
    "from sklearn.cluster import KMeans\n",
    "\n",
    "error_cost=[]\n",
    "\n",
    "for i in range(3, 11):\n",
    "    KM = KMeans(n_clusters=i, max_iter=100)\n",
    "    try:\n",
    "        KM.fit(df_normalized)\n",
    "\n",
    "    except ValueError:\n",
    "        print('Error on line', i)\n",
    "\n",
    "  # calculate squared error for the clustered points\n",
    "    error_cost.append(KM.inertia_ / 100)\n",
    "\n",
    "# plot the K values against the squared error cost\n",
    "plt.figure(figsize=(13,7))\n",
    "plt.plot(range(3,11), error_cost, color='r', linewidth=3)\n",
    "plt.xlabel('Number of k clusters')\n",
    "plt.ylabel('Squared Error (Cost)')\n",
    "plt.grid(color='white', linestyle='-', linewidth=2)\n",
    "\n",
    "plt.show()"
   ]
  },
  {
   "cell_type": "markdown",
   "metadata": {},
   "source": [
    "At k=6 Squared error is reduce beyond it solutin is geting over generalized"
   ]
  },
  {
   "cell_type": "code",
   "execution_count": null,
   "metadata": {},
   "outputs": [],
   "source": [
    "# set number of clusters\n",
    "kclusters = 6\n",
    "\n",
    "# run k-means clustering\n",
    "kmeans = KMeans(n_clusters=kclusters, random_state=0).fit(df_normalized)\n",
    "\n",
    "# check cluster labels generated for each row in the dataframe\n",
    "labels=kmeans.labels_[0:]\n",
    "labels"
   ]
  },
  {
   "cell_type": "code",
   "execution_count": null,
   "metadata": {},
   "outputs": [],
   "source": [
    "df_clustered =df_final\n",
    "df_clustered.insert(0, 'Cluster Label', kmeans.labels_)\n",
    "df_clustered.head()"
   ]
  },
  {
   "cell_type": "markdown",
   "metadata": {},
   "source": [
    "### Visulize the clusters on a map"
   ]
  },
  {
   "cell_type": "code",
   "execution_count": null,
   "metadata": {},
   "outputs": [],
   "source": [
    "\n",
    "# Matplotlib and associated plotting modules\n",
    "import matplotlib.cm as cm\n",
    "import matplotlib.colors as colors\n",
    "\n",
    "# create map\n",
    "map_clusters = folium.Map(location=[latitude,longitude], zoom_start=11)\n",
    "\n",
    "# set color schemes for the clusters\n",
    "x = np.arange(kclusters)\n",
    "ys = [i + x + (i*x)**2 for i in range(kclusters)]\n",
    "colors_array = cm.rainbow(np.linspace(0, 1, len(ys)))\n",
    "rainbow = [colors.rgb2hex(i) for i in colors_array]\n",
    "\n",
    "# add markers to the map\n",
    "markers_colors = []\n",
    "for lat, lon, poi, cluster in zip(df_clustered['Latitude'], df_clustered['Longitude'], df_clustered['Neighbourhood'], df_clustered['Cluster Label']):\n",
    "    label = folium.Popup(str(poi) + ' Cluster ' + str(cluster), parse_html=True)\n",
    "    folium.CircleMarker(\n",
    "        [lat, lon],\n",
    "        radius=5,\n",
    "        popup=label,\n",
    "        color=rainbow[cluster-1],\n",
    "        \n",
    "        fill=True,\n",
    "        fill_color=rainbow[cluster-1],\n",
    "        fill_opacity=0.7).add_to(map_clusters)\n",
    "       \n",
    "map_clusters"
   ]
  },
  {
   "cell_type": "markdown",
   "metadata": {},
   "source": []
  },
  {
   "cell_type": "code",
   "execution_count": null,
   "metadata": {},
   "outputs": [],
   "source": [
    "temp=df_clustered.groupby('Cluster Label').mean()\n",
    "temp.sort_values(by='Cluster Label',axis=0,ascending=True,inplace=True)"
   ]
  },
  {
   "cell_type": "code",
   "execution_count": null,
   "metadata": {},
   "outputs": [],
   "source": [
    "temp"
   ]
  },
  {
   "cell_type": "markdown",
   "metadata": {},
   "source": [
    "### Cluster 0"
   ]
  },
  {
   "cell_type": "code",
   "execution_count": null,
   "metadata": {},
   "outputs": [],
   "source": [
    "df_clustered.loc[df_clustered['Cluster Label'] == 0]"
   ]
  },
  {
   "cell_type": "markdown",
   "metadata": {},
   "source": [
    "### Cluster 1"
   ]
  },
  {
   "cell_type": "code",
   "execution_count": null,
   "metadata": {},
   "outputs": [],
   "source": [
    "df_clustered.loc[df_clustered['Cluster Label'] == 1]"
   ]
  },
  {
   "cell_type": "markdown",
   "metadata": {},
   "source": [
    "### Cluster 2"
   ]
  },
  {
   "cell_type": "code",
   "execution_count": null,
   "metadata": {},
   "outputs": [],
   "source": [
    "df_clustered.loc[df_clustered['Cluster Label'] == 2]"
   ]
  },
  {
   "cell_type": "markdown",
   "metadata": {},
   "source": [
    "### Cluster 3"
   ]
  },
  {
   "cell_type": "code",
   "execution_count": null,
   "metadata": {},
   "outputs": [],
   "source": [
    "df_clustered.loc[df_clustered['Cluster Label'] == 3]"
   ]
  },
  {
   "cell_type": "markdown",
   "metadata": {},
   "source": [
    "### Cluster 4"
   ]
  },
  {
   "cell_type": "code",
   "execution_count": null,
   "metadata": {},
   "outputs": [],
   "source": [
    "df_clustered.loc[df_clustered['Cluster Label'] == 4]"
   ]
  },
  {
   "cell_type": "markdown",
   "metadata": {},
   "source": [
    "### Cluster 5"
   ]
  },
  {
   "cell_type": "code",
   "execution_count": null,
   "metadata": {},
   "outputs": [],
   "source": [
    "df_clustered.loc[df_clustered['Cluster Label'] == 5]"
   ]
  },
  {
   "cell_type": "code",
   "execution_count": null,
   "metadata": {},
   "outputs": [],
   "source": []
  },
  {
   "cell_type": "code",
   "execution_count": null,
   "metadata": {},
   "outputs": [],
   "source": []
  }
 ],
 "metadata": {
  "kernelspec": {
   "display_name": "Python",
   "language": "python",
   "name": "conda-env-python-py"
  },
  "language_info": {
   "codemirror_mode": {
    "name": "ipython",
    "version": 3
   },
   "file_extension": ".py",
   "mimetype": "text/x-python",
   "name": "python",
   "nbconvert_exporter": "python",
   "pygments_lexer": "ipython3",
   "version": "3.6.11"
  }
 },
 "nbformat": 4,
 "nbformat_minor": 4
}
